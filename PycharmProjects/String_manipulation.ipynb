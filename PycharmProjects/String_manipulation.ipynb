{
 "cells": [
  {
   "cell_type": "markdown",
   "id": "25dffcfb-bf86-4a7c-8f3a-9c188475ad9b",
   "metadata": {},
   "source": [
    "## ------------- PRESENTATION ON STRING MANIPULATION --------------- ##"
   ]
  },
  {
   "cell_type": "markdown",
   "id": "8d994798-3210-4e26-a3ff-9fd6b0735632",
   "metadata": {},
   "source": [
    "#### By: GROUP 1 (Python Developer Bootcamp) ####\n",
    "\n",
    "#### 19th December, 2024. ####"
   ]
  },
  {
   "cell_type": "markdown",
   "id": "da1d562e-bd8c-423b-9924-780535c916b3",
   "metadata": {},
   "source": [
    "##### ***Our python program demonstrating different string manipulation techniques.*** #####"
   ]
  },
  {
   "cell_type": "markdown",
   "id": "c7b5d3a2-adf5-474a-9903-c571aabb1b49",
   "metadata": {},
   "source": [
    "### -------------------------------------------------------------------------------------------------"
   ]
  },
  {
   "cell_type": "markdown",
   "id": "c708a6fd-3561-4d58-84f2-e805922020d2",
   "metadata": {},
   "source": [
    "### STEPS ###"
   ]
  },
  {
   "cell_type": "code",
   "execution_count": 13,
   "id": "9643b2be-bd3f-4ebf-819d-6306eb83f796",
   "metadata": {},
   "outputs": [
    {
     "name": "stdin",
     "output_type": "stream",
     "text": [
      "Kindly, input first name:  Benedine\n",
      "Kindly, input last name:  Okeke\n"
     ]
    },
    {
     "name": "stdout",
     "output_type": "stream",
     "text": [
      "My full name is: Benedine Okeke. \n"
     ]
    }
   ],
   "source": [
    "# Step 1: CONCANTENATION\n",
    "# Using string concatenation to combine first and last name.\n",
    "\n",
    "first_name = input(\"Kindly, input first name: \")\n",
    "last_name = input(\"Kindly, input last name: \")\n",
    "full_name = first_name + \" \" + last_name \n",
    "print(f\"My full name is: {full_name}. \")\n"
   ]
  },
  {
   "cell_type": "code",
   "execution_count": 14,
   "id": "119b1b11-b3bf-4ac1-90c2-e5dec5cc0422",
   "metadata": {},
   "outputs": [
    {
     "name": "stdin",
     "output_type": "stream",
     "text": [
      "Enter an interesting word:  Awesome\n"
     ]
    },
    {
     "name": "stdout",
     "output_type": "stream",
     "text": [
      "The first character from the word is: A\n",
      "The last character from the word is: e\n"
     ]
    }
   ],
   "source": [
    "# Step 2: INDEXING\n",
    "# Using string indexing to extract any character in a word.\n",
    "\n",
    "any_word = input(\"Enter an interesting word: \")\n",
    "first_character = any_word [0]  # First charcter begins from 0\n",
    "last_character = any_word [-1]  # Last chatacter begins from-1\n",
    "print(f\"The first character from the word is: {first_character}\")\n",
    "print(f\"The last character from the word is: {last_character}\")\n"
   ]
  },
  {
   "cell_type": "code",
   "execution_count": 5,
   "id": "dcd73710-ff1c-49d5-b4d1-7141d215a905",
   "metadata": {},
   "outputs": [
    {
     "ename": "NameError",
     "evalue": "name 'full_name' is not defined",
     "output_type": "error",
     "traceback": [
      "\u001b[1;31m---------------------------------------------------------------------------\u001b[0m",
      "\u001b[1;31mNameError\u001b[0m                                 Traceback (most recent call last)",
      "Cell \u001b[1;32mIn[5], line 4\u001b[0m\n\u001b[0;32m      1\u001b[0m \u001b[38;5;66;03m# Step 3: SLICING\u001b[39;00m\n\u001b[0;32m      2\u001b[0m \u001b[38;5;66;03m# Using Slicing to extract my first name from full name in step 1\u001b[39;00m\n\u001b[1;32m----> 4\u001b[0m \u001b[43mfull_name\u001b[49m\u001b[38;5;241m.\u001b[39mfind(\u001b[38;5;124m\"\u001b[39m\u001b[38;5;124m \u001b[39m\u001b[38;5;124m\"\u001b[39m)\n\u001b[0;32m      5\u001b[0m name_slice \u001b[38;5;241m=\u001b[39m full_name [\u001b[38;5;241m0\u001b[39m:\u001b[38;5;241m8\u001b[39m]  \n\u001b[0;32m      7\u001b[0m \u001b[38;5;28mprint\u001b[39m(\u001b[38;5;124mf\u001b[39m\u001b[38;5;124m\"\u001b[39m\u001b[38;5;132;01m{\u001b[39;00mname_slice\u001b[38;5;132;01m}\u001b[39;00m\u001b[38;5;124m\"\u001b[39m)\n",
      "\u001b[1;31mNameError\u001b[0m: name 'full_name' is not defined"
     ]
    }
   ],
   "source": [
    "# Step 3: SLICING\n",
    "# Using Slicing to extract my first name from full name in step 1\n",
    "\n",
    "name_slice = full_name [0:8]  \n",
    "print(f\"{name_slice}\")"
   ]
  },
  {
   "cell_type": "code",
   "execution_count": 16,
   "id": "21bcffd1-7c08-4c37-baa9-b761d573c8e4",
   "metadata": {},
   "outputs": [
    {
     "name": "stdout",
     "output_type": "stream",
     "text": [
      "My full name in uppercase is: BENEDINE OKEKE.\n"
     ]
    }
   ],
   "source": [
    "# Step 4: UPEERCASE METHOD\n",
    "# Coverting the full name from step 1 to uppercase\n",
    "\n",
    "full_names = full_name.upper()\n",
    "print(f\"My full name in uppercase is: {full_names}.\")"
   ]
  },
  {
   "cell_type": "code",
   "execution_count": null,
   "id": "5e982ebd-4223-47b2-b65c-b2001a8c4cf3",
   "metadata": {},
   "outputs": [],
   "source": [
    "# Bonus Challenge\n",
    "\n",
    "def full_name_length(name):\n",
    "    return len(name.replace(\" \", \"\"))\n",
    "\n",
    "name = input(\"Enter your full name: \")\n",
    "print(\"Length of full name without spaces:\", full_name_length(name))\n"
   ]
  },
  {
   "cell_type": "markdown",
   "id": "b0af120e-5210-4ca5-ac59-bf9ac05aaff9",
   "metadata": {},
   "source": [
    "### -----------------------------------------Thank you------------------------------------------- ###"
   ]
  },
  {
   "cell_type": "code",
   "execution_count": null,
   "id": "f176676b-7638-46c8-922c-aa907b3b6671",
   "metadata": {},
   "outputs": [],
   "source": []
  }
 ],
 "metadata": {
  "kernelspec": {
   "display_name": "Python 3 (ipykernel)",
   "language": "python",
   "name": "python3"
  },
  "language_info": {
   "codemirror_mode": {
    "name": "ipython",
    "version": 3
   },
   "file_extension": ".py",
   "mimetype": "text/x-python",
   "name": "python",
   "nbconvert_exporter": "python",
   "pygments_lexer": "ipython3",
   "version": "3.13.2"
  }
 },
 "nbformat": 4,
 "nbformat_minor": 5
}
