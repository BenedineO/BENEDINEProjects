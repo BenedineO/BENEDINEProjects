{
 "cells": [
  {
   "cell_type": "markdown",
   "id": "5272a07e-ad3c-4740-a19d-c39b72ae3d95",
   "metadata": {},
   "source": [
    "# Applying Functions in Real-World Scenarios #"
   ]
  },
  {
   "cell_type": "markdown",
   "id": "8f3080d6-c34d-4d8a-826e-9a1b00d700ea",
   "metadata": {},
   "source": [
    "#### As a python programmer, this project involves designing and using functions with different types of parameters. ####"
   ]
  },
  {
   "cell_type": "markdown",
   "id": "7d7ba4d9-7f87-494e-bc60-05580a55442a",
   "metadata": {},
   "source": [
    "#### By: Benedine B.N Okeke ####\n",
    "##### Obiekeabb@gmail.com #####\n",
    "###### 25th Feb, 2025. ######"
   ]
  },
  {
   "cell_type": "markdown",
   "id": "512a9aed-cdfd-434c-9202-e410911e5dbc",
   "metadata": {},
   "source": [
    "# ---------------------------------------------------------------------------------------- #"
   ]
  },
  {
   "cell_type": "markdown",
   "id": "ab93ca93-bfeb-403f-a8ff-b395af2f300b",
   "metadata": {},
   "source": [
    "### 1.  Function with No Parameters ###\n"
   ]
  },
  {
   "cell_type": "code",
   "execution_count": 2,
   "id": "99552b00-0f65-4611-8860-472e053c8416",
   "metadata": {},
   "outputs": [
    {
     "name": "stdout",
     "output_type": "stream",
     "text": [
      "The library is open from 9:00 AM to 6:00 PM Daily.\n"
     ]
    }
   ],
   "source": [
    "def library_hours(): # Defining my function\n",
    "    \n",
    "    \"\"\" Displays  library's opening and closing hours.\n",
    "    \"\"\"\n",
    "    print (\"The library is open from 9:00 AM to 6:00 PM Daily.\")\n",
    "    \n",
    "# Calling my function\n",
    "library_hours()"
   ]
  },
  {
   "cell_type": "markdown",
   "id": "2894ad48-d00a-4ab7-a66b-6fc014696f62",
   "metadata": {},
   "source": [
    "### 2. Function with a Single Parameter ###"
   ]
  },
  {
   "cell_type": "code",
   "execution_count": 3,
   "id": "1cdaae71-abba-4ecc-afe2-6d2a182d0fce",
   "metadata": {},
   "outputs": [
    {
     "name": "stdout",
     "output_type": "stream",
     "text": [
      "The Ticket Price is $5\n",
      "The Ticket Price is $10\n",
      "The Ticket price is $7\n"
     ]
    }
   ],
   "source": [
    "def ticket_price(age): # Defining my function\n",
    "    \n",
    "    \"\"\" Diplays ticket price based on age\n",
    "    \"\"\"\n",
    "    \n",
    "    if age < 12:    # Creating conditions for payment based on age\n",
    "        print (\"The Ticket Price is $5\")\n",
    "    elif 12 <= age <= 60:\n",
    "        print (\"The Ticket Price is $10\")\n",
    "    else:\n",
    "        print(\"The Ticket price is $7\")\n",
    "\n",
    "# Calling my function with different ages\n",
    "ticket_price(10)\n",
    "ticket_price(30)\n",
    "ticket_price(65)"
   ]
  },
  {
   "cell_type": "markdown",
   "id": "62c64aef-db4f-4627-bd4f-ad3fe458c1a8",
   "metadata": {},
   "source": [
    "### 3. Function with Multiple Parameters ###"
   ]
  },
  {
   "cell_type": "code",
   "execution_count": 4,
   "id": "e46d5b28-59f2-4df2-89a4-c2161fa52880",
   "metadata": {},
   "outputs": [
    {
     "name": "stdout",
     "output_type": "stream",
     "text": [
      "Total Bill Amount = ₦38250\n"
     ]
    }
   ],
   "source": [
    "def calculate_bill(price, quantity,): # Defining my function\n",
    "    \n",
    "    \"\"\"Calculate and displays total bill amount based on price and quantity.\n",
    "    \"\"\"\n",
    "    \n",
    "    total_cost = price * quantity\n",
    "    return total_cost  # Returning the output so it can be called anytime\n",
    "\n",
    "# Providing arguments for output\n",
    "electricity_cost = calculate_bill(205,30)\n",
    "water_cost = calculate_bill(70,30)\n",
    "internet_cost = calculate_bill(1000,30)\n",
    "\n",
    "# Printing my output in readable format using f-string\n",
    "print(f\"Total Bill Amount = ₦{electricity_cost + water_cost + internet_cost}\")"
   ]
  },
  {
   "cell_type": "markdown",
   "id": "5857ab24-2ef0-41f1-aac2-2dfb5c9c272d",
   "metadata": {},
   "source": [
    "### 4. Function with Default Parameters ###"
   ]
  },
  {
   "cell_type": "code",
   "execution_count": 5,
   "id": "7a26e548-c161-4186-a54b-97a37f966b27",
   "metadata": {},
   "outputs": [
    {
     "name": "stdout",
     "output_type": "stream",
     "text": [
      "Notification: Your order has been shipped!\n",
      "Notification: No New Notifications.\n"
     ]
    }
   ],
   "source": [
    "def send_notification(message= \"No New Notifications.\"): # Defining my function\n",
    "    print(f\"Notification: {message}\") # print any argument provided\n",
    "    \n",
    "    \"\"\"Sending and dislaying notification message.\n",
    "    \"\"\"\n",
    "\n",
    "# Callng my function with or without an argument\n",
    "send_notification(\"Your order has been shipped!\") \n",
    "send_notification()"
   ]
  },
  {
   "cell_type": "markdown",
   "id": "e40cf68c-931b-4f6e-99d0-e50f816a5e54",
   "metadata": {},
   "source": [
    "# ---------------------------------------------------------------------------------------- #"
   ]
  },
  {
   "cell_type": "markdown",
   "id": "86263c35-aaba-40f8-9da8-54286ef87e91",
   "metadata": {},
   "source": [
    "## BONUS CHALLENGE ##"
   ]
  },
  {
   "cell_type": "code",
   "execution_count": 6,
   "id": "4c3f7f17-592f-4441-b19e-761312accc51",
   "metadata": {},
   "outputs": [
    {
     "name": "stdout",
     "output_type": "stream",
     "text": [
      "Total Bill Amount = ₦36337.5\n"
     ]
    }
   ],
   "source": [
    "def calculate_bill(price, quantity, discount= 0.05): # Defining my function \n",
    "    \n",
    "    \"\"\"Calculate Total bill based on price, quantity and discount\n",
    "    \"\"\"\n",
    "    \n",
    "    total_cost = price * quantity\n",
    "    if total_cost > 100:\n",
    "        total_amount = total_cost * discount # Using 5% default discount\n",
    "        total_cost -= total_amount  # Subtract the discount from the amount and assign the balance\n",
    "    return total_cost       # Returning the output so i can call it anytime\n",
    "\n",
    "# Providing arguments for output\n",
    "electricity_cost = calculate_bill(205,30)\n",
    "water_cost = calculate_bill(70,30)\n",
    "internet_cost = calculate_bill(1000,30)\n",
    "\n",
    "# Printing my output in readable format using f-string\n",
    "print(f\"Total Bill Amount = ₦{electricity_cost + water_cost + internet_cost}\")"
   ]
  },
  {
   "cell_type": "code",
   "execution_count": 9,
   "id": "db135187-a329-4ff9-8181-6f74cdaa9e06",
   "metadata": {},
   "outputs": [
    {
     "name": "stdin",
     "output_type": "stream",
     "text": [
      "Kindly, enter your age:  -15\n"
     ]
    },
    {
     "name": "stdout",
     "output_type": "stream",
     "text": [
      "Age cannot be negative. Please input a positive whole number.\n"
     ]
    },
    {
     "name": "stdin",
     "output_type": "stream",
     "text": [
      "Kindly, enter your age:  65\n"
     ]
    },
    {
     "name": "stdout",
     "output_type": "stream",
     "text": [
      "The Ticket price is $7\n"
     ]
    }
   ],
   "source": [
    "def ticket_price():\n",
    "    \n",
    "    \"\"\"\n",
    "    Calculate and display the ticket price based on user's age.\n",
    "    \"\"\"\n",
    "    age = float(input(\"Kindly, enter your age: \"))\n",
    "    \n",
    "    while age < 0:\n",
    "        print(\"Age cannot be negative. Please input a positive whole number.\")\n",
    "        age = float(input(\"Kindly, enter your age: \"))\n",
    "\n",
    "    if age < 12:    # Creating conditions for payment based on age\n",
    "        print (\"The Ticket Price is $5\")\n",
    "    elif 12 <= age <= 60:\n",
    "        print (\"The Ticket Price is $10\")\n",
    "    else:\n",
    "        print(\"The Ticket price is $7\")\n",
    "\n",
    "# Calling my function\n",
    "ticket_price()"
   ]
  },
  {
   "cell_type": "markdown",
   "id": "28ac106f-19f2-4d07-a7f6-6e0fe750ea68",
   "metadata": {},
   "source": [
    "#### ***Conclusion: You can see the functions i created can be used in real- world scenarios*** ..."
   ]
  },
  {
   "cell_type": "code",
   "execution_count": null,
   "id": "547ee3c8-c8b9-462b-9b4c-fb417c11784d",
   "metadata": {
    "jupyter": {
     "source_hidden": true
    }
   },
   "outputs": [],
   "source": []
  }
 ],
 "metadata": {
  "kernelspec": {
   "display_name": "Python 3 (ipykernel)",
   "language": "python",
   "name": "python3"
  },
  "language_info": {
   "codemirror_mode": {
    "name": "ipython",
    "version": 3
   },
   "file_extension": ".py",
   "mimetype": "text/x-python",
   "name": "python",
   "nbconvert_exporter": "python",
   "pygments_lexer": "ipython3",
   "version": "3.13.2"
  }
 },
 "nbformat": 4,
 "nbformat_minor": 5
}
