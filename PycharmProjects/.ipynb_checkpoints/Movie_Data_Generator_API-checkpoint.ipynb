{
 "cells": [
  {
   "cell_type": "markdown",
   "id": "a3504138-b3ea-42cd-a9ba-1821192188f0",
   "metadata": {},
   "source": [
    "# MOVIE DATA GENERATOR API"
   ]
  },
  {
   "cell_type": "markdown",
   "id": "3b69362f-8f76-45e2-85bf-981607f6634f",
   "metadata": {},
   "source": [
    "#### This task is aimed at developing a movie data generator using a python API. This system will connect to an API to retrieve movie data, process it and store it in a file. Throughout this project, i will implement intermediate python concepts by using a simple API from the requests library, handle exceptions, store and create functions to read and display movie information. "
   ]
  },
  {
   "cell_type": "markdown",
   "id": "44a6d7a7-4070-45cf-b52f-8e5286fbf961",
   "metadata": {},
   "source": [
    "### By: Benedine B.N Okeke\n",
    "#### Obiekeabb@gmail.com\n",
    "#### 26th August, 2024."
   ]
  },
  {
   "cell_type": "markdown",
   "id": "577e7775-1197-416b-990a-d5fe19db97e9",
   "metadata": {},
   "source": [
    "### -------------------------------------------------------------------------------------------------"
   ]
  },
  {
   "cell_type": "markdown",
   "id": "1545e302-06cb-487d-a2c7-6f6e7973fc12",
   "metadata": {},
   "source": [
    "### ***STEP 1: IMPORTING LIBRARIES & CONNECTING TO OMDB API USING AN API KEY***"
   ]
  },
  {
   "cell_type": "code",
   "execution_count": 1,
   "id": "39a2b0ea-5988-418f-ba28-222fcfc15800",
   "metadata": {},
   "outputs": [
    {
     "name": "stdin",
     "output_type": "stream",
     "text": [
      "Enter movie title:  The Wedding Party\n"
     ]
    }
   ],
   "source": [
    "import requests # For handling HTTP reqeusts\n",
    "import json # For working with JSON data\n",
    "\n",
    "# User inputs the movie title\n",
    "movie_title = input(\"Enter movie title: \")\n",
    "\n",
    "# Constructing the API URL with the API key included\n",
    "api_key = '4bbf40d'\n",
    "url = f'http://www.omdbapi.com/?t={movie_title}&apikey={api_key}&plot=short&r=json'\n",
    "\n",
    "#\n",
    "response= requests.get(url)"
   ]
  },
  {
   "cell_type": "markdown",
   "id": "d4ec38fd-b990-4cee-8381-150b3971714f",
   "metadata": {},
   "source": [
    "#### ***Explanation: I used the OMDB API to fetch movie details, i included the API key request from their movie site, so this API alows me to retrieve movie information by title***. "
   ]
  },
  {
   "cell_type": "markdown",
   "id": "94a3d936-9550-4e2b-8b1f-fe4a2ce30e33",
   "metadata": {},
   "source": [
    "### -------------------------------------------------------------------------------------------------"
   ]
  },
  {
   "cell_type": "markdown",
   "id": "f6fa94db-9e22-4cba-b447-45ffa0f2f15e",
   "metadata": {},
   "source": [
    "### ***STEP 2: IMPLEMEMTING EXCEPTION HANDLING***"
   ]
  },
  {
   "cell_type": "code",
   "execution_count": 1,
   "id": "e9f2fe9f-539a-4b36-bbf7-1bb737c8ec2a",
   "metadata": {},
   "outputs": [
    {
     "ename": "NameError",
     "evalue": "name 'requests' is not defined",
     "output_type": "error",
     "traceback": [
      "\u001b[1;31m---------------------------------------------------------------------------\u001b[0m",
      "\u001b[1;31mNameError\u001b[0m                                 Traceback (most recent call last)",
      "Cell \u001b[1;32mIn[1], line 2\u001b[0m\n\u001b[0;32m      1\u001b[0m \u001b[38;5;28;01mtry\u001b[39;00m:\n\u001b[1;32m----> 2\u001b[0m     response \u001b[38;5;241m=\u001b[39m \u001b[43mrequests\u001b[49m\u001b[38;5;241m.\u001b[39mget(url)\n\u001b[0;32m      3\u001b[0m     response\u001b[38;5;241m.\u001b[39mraise_for_status()  \u001b[38;5;66;03m# Raise an exception for HTTP Errors\u001b[39;00m\n",
      "\u001b[1;31mNameError\u001b[0m: name 'requests' is not defined",
      "\nDuring handling of the above exception, another exception occurred:\n",
      "\u001b[1;31mNameError\u001b[0m                                 Traceback (most recent call last)",
      "Cell \u001b[1;32mIn[1], line 9\u001b[0m\n\u001b[0;32m      6\u001b[0m     \u001b[38;5;28;01mif\u001b[39;00m \u001b[38;5;124m'\u001b[39m\u001b[38;5;124mError\u001b[39m\u001b[38;5;124m'\u001b[39m \u001b[38;5;129;01min\u001b[39;00m movie_data:\n\u001b[0;32m      7\u001b[0m         \u001b[38;5;28;01mraise\u001b[39;00m \u001b[38;5;167;01mValueError\u001b[39;00m(\u001b[38;5;124m\"\u001b[39m\u001b[38;5;124mNo data found for the provided Movie Title.\u001b[39m\u001b[38;5;124m\"\u001b[39m)\n\u001b[1;32m----> 9\u001b[0m \u001b[38;5;28;01mexcept\u001b[39;00m \u001b[43mrequests\u001b[49m\u001b[38;5;241m.\u001b[39mExceptions\u001b[38;5;241m.\u001b[39mHTTPError \u001b[38;5;28;01mas\u001b[39;00m http_err:\n\u001b[0;32m     10\u001b[0m     \u001b[38;5;28mprint\u001b[39m(\u001b[38;5;124mf\u001b[39m\u001b[38;5;124m\"\u001b[39m\u001b[38;5;124mHTTP Error Occured: \u001b[39m\u001b[38;5;132;01m{\u001b[39;00mhttp_err\u001b[38;5;132;01m}\u001b[39;00m\u001b[38;5;124m\"\u001b[39m)\n\u001b[0;32m     11\u001b[0m \u001b[38;5;28;01mexcept\u001b[39;00m requests\u001b[38;5;241m.\u001b[39mExceptions\u001b[38;5;241m.\u001b[39mConnectionError \u001b[38;5;28;01mas\u001b[39;00m conn_err:\n",
      "\u001b[1;31mNameError\u001b[0m: name 'requests' is not defined"
     ]
    }
   ],
   "source": [
    "try:\n",
    "    response = requests.get(url)\n",
    "    response.raise_for_status()  # Raise an exception for HTTP Errors\n",
    "    movie_data = response.json()\n",
    "\n",
    "    if 'Error' in movie_data:\n",
    "        raise ValueError(\"No data found for the provided Movie Title.\")\n",
    "    \n",
    "except requests.Exceptions.HTTPError as http_err:\n",
    "    print(f\"HTTP Error Occured: {http_err}\")\n",
    "except requests.Exceptions.ConnectionError as conn_err:\n",
    "    print(f\"Connection Error Occured: {conn_err}\")\n",
    "except requests. Exceptions.TimeoutError as timeout_err:\n",
    "    print(f\"Timeout Error Occured: {timeout_err}\")\n",
    "except requests.Exceptions.RequestError as req_err:\n",
    "    print(f\"An Error Occured: {req_err}\")\n",
    "except ValueError as ve:\n",
    "    print(ve)\n",
    "else:\n",
    "    print(\"Movie Data Retrieved Sucessfully!\")\n"
   ]
  },
  {
   "cell_type": "markdown",
   "id": "f18b49d8-d478-43d1-a77a-2f8590bd811c",
   "metadata": {},
   "source": [
    "#### ***Explanation: My movie data was retreived successfully as the exception handling helped me to handle errors***."
   ]
  },
  {
   "cell_type": "markdown",
   "id": "e33e5573-0efd-4506-830f-2047b95cc364",
   "metadata": {},
   "source": [
    "### -------------------------------------------------------------------------------------------------"
   ]
  },
  {
   "cell_type": "markdown",
   "id": "549b52cd-39c0-44a9-b033-4905c13ef435",
   "metadata": {},
   "source": [
    "### ***STEP 3: EXTRACTING MOVIE INFROMATION***"
   ]
  },
  {
   "cell_type": "code",
   "execution_count": 3,
   "id": "a3cebc93-95b3-4bba-9934-34a373fd8b88",
   "metadata": {},
   "outputs": [
    {
     "name": "stdout",
     "output_type": "stream",
     "text": [
      "{'Title': 'The Wedding Party', 'Year': '1969', 'Director': 'Brian De Palma, Wilford Leach, Cynthia Munroe'}\n"
     ]
    }
   ],
   "source": [
    "if 'movie_data' in locals():  # Check if movie_data exists\n",
    "        # Extract the title, year and director from the movie_Data\n",
    "        title = movie_data.get('Title', 'N/A')\n",
    "        year = movie_data.get('Year', 'N/A')\n",
    "        director = movie_data.get('Director', 'N/A')\n",
    "\n",
    "        # Store the extracted infromation in a Dictionay\n",
    "        movie_info = {\n",
    "            'Title':title,\n",
    "            'Year': year,\n",
    "            'Director': director\n",
    "        }\n",
    "\n",
    "        # Displaying the Extracted Information\n",
    "        print(movie_info)\n"
   ]
  },
  {
   "cell_type": "markdown",
   "id": "95a1469c-e491-4e77-9582-5cb04cb71497",
   "metadata": {},
   "source": [
    "#### ***Explantion: I am able to retrieve the title, year of movie release and the director of the the movie from the JSON response***."
   ]
  },
  {
   "cell_type": "markdown",
   "id": "ed78c50b-5221-4727-9861-f40d903a6718",
   "metadata": {},
   "source": [
    "### -------------------------------------------------------------------------------------------------"
   ]
  },
  {
   "cell_type": "markdown",
   "id": "2a50083d-a7c5-4f31-ba84-3c401df5fc7f",
   "metadata": {},
   "source": [
    "### ***STEP 4: STORING MOVIE INFORMATION IN A FILE***"
   ]
  },
  {
   "cell_type": "code",
   "execution_count": 4,
   "id": "d4a40c3b-7cb0-4a4d-af7a-ef0fd12e3aee",
   "metadata": {},
   "outputs": [],
   "source": [
    "with open('movie_info.txt', 'w') as file:\n",
    "            # Write the movie information to the text file in JSON format\n",
    "            file.write(json.dumps(movie_info, indent=4))"
   ]
  },
  {
   "cell_type": "markdown",
   "id": "c4c65ed3-53fb-4d5d-91ed-33b5ab3396c4",
   "metadata": {},
   "source": [
    "### -------------------------------------------------------------------------------------------------"
   ]
  },
  {
   "cell_type": "markdown",
   "id": "14e9d410-064a-43cd-a6ad-f3b1028267cc",
   "metadata": {},
   "source": [
    "### ***STEP 5: READING AND DISPLAYING STORED DATA***"
   ]
  },
  {
   "cell_type": "code",
   "execution_count": 5,
   "id": "6d24dbdc-57eb-4d30-b83c-c058608ab1bf",
   "metadata": {},
   "outputs": [],
   "source": [
    "def display_stored_movie_info():\n",
    "            try:\n",
    "                # Open and read the stored movie information from the file\n",
    "                with open('movie_info.txt', 'r') as file:\n",
    "                     stored_data = json.load(file)\n",
    "                     print(\"Stored Movie Information:\")\n",
    "                     # Print the stored data in a readble JSON format\n",
    "                     print(json.dumps(stored_data, indent=4))\n",
    "            except FileNotFoundError:\n",
    "                    print(\"File does not exist.\") \n",
    "            except json.JSONDecoderError:\n",
    "                    print(\"Error decoding the JSON data.\")\n",
    "            except Exception as e:\n",
    "                    print(f\"An unexpected error occured: {e}\")\n",
    "                # Call the function to display the stored information\n",
    "                    display_stored_movie_info()\n"
   ]
  },
  {
   "cell_type": "markdown",
   "id": "dc8d4624-c1e4-4427-b27f-a55ecdf47164",
   "metadata": {},
   "source": [
    "#### ***Explanation: I created a function to read the stored data from the file and display it...This function will allow me to access and review stored infromation***. "
   ]
  },
  {
   "cell_type": "markdown",
   "id": "ec62b437-ed4a-4f09-a752-a900d94e743b",
   "metadata": {},
   "source": [
    "### -------------------------------------------------------------------------------------------------"
   ]
  },
  {
   "cell_type": "markdown",
   "id": "58d7941d-b1fa-47dd-a911-18fbbf3ebb4d",
   "metadata": {},
   "source": [
    "### CONCLUSION: It is possible to use Python API to generate a movie data software by connectiong to an API key. Looking at the output, we will realize that when the right movie name is inputed, data is retrieved sucessfully, stored read and displayed anytime. But, if a wrong movie name is inputed, an error will be raised."
   ]
  },
  {
   "cell_type": "markdown",
   "id": "0b90d734-3a49-4820-bc6e-d213e8863ea0",
   "metadata": {},
   "source": [
    "### -------------------------------------------------------------------------------------------------"
   ]
  },
  {
   "cell_type": "code",
   "execution_count": null,
   "id": "67132a4f-9e8b-4422-abb2-c429b6c2b851",
   "metadata": {},
   "outputs": [],
   "source": []
  }
 ],
 "metadata": {
  "kernelspec": {
   "display_name": "Python 3 (ipykernel)",
   "language": "python",
   "name": "python3"
  },
  "language_info": {
   "codemirror_mode": {
    "name": "ipython",
    "version": 3
   },
   "file_extension": ".py",
   "mimetype": "text/x-python",
   "name": "python",
   "nbconvert_exporter": "python",
   "pygments_lexer": "ipython3",
   "version": "3.13.2"
  }
 },
 "nbformat": 4,
 "nbformat_minor": 5
}
