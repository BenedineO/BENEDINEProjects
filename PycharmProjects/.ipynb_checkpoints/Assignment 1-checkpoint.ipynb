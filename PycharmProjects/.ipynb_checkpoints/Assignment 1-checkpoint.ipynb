{
 "cells": [
  {
   "cell_type": "markdown",
   "id": "352afea9-43ed-4ad1-9606-886174e6667f",
   "metadata": {},
   "source": [
    "### Developing a Simple Python Program to Record User Login Information."
   ]
  },
  {
   "cell_type": "markdown",
   "id": "1769649f-5637-48a9-9fdc-216dc984dd23",
   "metadata": {},
   "source": [
    "#### By: Benedine B.N Okeke\n",
    "##### Obiekeabb@gmail.com\n",
    "##### 14th August, 2024."
   ]
  },
  {
   "cell_type": "markdown",
   "id": "20f97cea-880c-4021-a2f8-5333b3831cc9",
   "metadata": {},
   "source": [
    "## -------------------------------------------------------------------------------"
   ]
  },
  {
   "cell_type": "code",
   "execution_count": 2,
   "id": "a5376d0b-be92-4eaf-b6ef-c3fbd89f96ab",
   "metadata": {},
   "outputs": [
    {
     "name": "stdin",
     "output_type": "stream",
     "text": [
      "Kindly, Enter Username:  Benedine Okeke\n",
      "Kindly, Enter Password:  Bene@12345\n"
     ]
    },
    {
     "name": "stdout",
     "output_type": "stream",
     "text": [
      "User information logged in successfully!\n"
     ]
    }
   ],
   "source": [
    "# import datetime module from Python Standard Library\n",
    "import datetime\n",
    "\n",
    "# Ask the user for username and passowrd\n",
    "try:\n",
    "    username = input(\"Kindly, Enter Username: \")\n",
    "    password = input(\"Kindly, Enter Password: \")\n",
    "\n",
    "# Get current Date and Time\n",
    "except SyntaxError:\n",
    "    current_datetime = datetime.datetime.now()\n",
    "    formatted_time = current_datetime.strftime(\"%Y-%m-%d %H:%M:%S\")\n",
    "\n",
    "# Open the log file in append mode ('a')\n",
    "with open(\"user_log.txt\", \"a\") as log_file:\n",
    "    # write user information with date and time to the log file\n",
    "    log_file.write(f\"{formatted_time} - Username: {username}, Password: {password}\\n\")\n",
    "   \n",
    "# Print a success message\n",
    "print(\"User information logged in successfully!\")\n"
   ]
  },
  {
   "cell_type": "code",
   "execution_count": 3,
   "id": "73734eed-bb83-4204-8dd8-12edb27cdc24",
   "metadata": {},
   "outputs": [
    {
     "name": "stdout",
     "output_type": "stream",
     "text": [
      "2024-08-14 16:42:28 - Username: Benedine Okeke, Password: Bene@12345\n",
      "2024-08-14 16:42:28 - Username: Benedine Okeke, Password: Bene@12345\n",
      "\n"
     ]
    }
   ],
   "source": [
    "# Displaying User Information from log file (user_log.txt)\n",
    "\n",
    "with open(\"user_log.txt\", \"r\") as my_file:\n",
    "        my_info = my_file.read()\n",
    "print(my_info)"
   ]
  },
  {
   "cell_type": "markdown",
   "id": "a6ee33da-7d97-4af8-90fe-9a3964cfe1ab",
   "metadata": {},
   "source": [
    "## -------------------------------------------------------------------------------"
   ]
  },
  {
   "cell_type": "code",
   "execution_count": null,
   "id": "07c53e31-1fa2-4be1-a917-01dda5ec35ab",
   "metadata": {},
   "outputs": [],
   "source": []
  },
  {
   "cell_type": "code",
   "execution_count": null,
   "id": "7515771c-ba79-4a48-995d-3effd5cb511a",
   "metadata": {},
   "outputs": [],
   "source": []
  }
 ],
 "metadata": {
  "kernelspec": {
   "display_name": "Python 3 (ipykernel)",
   "language": "python",
   "name": "python3"
  },
  "language_info": {
   "codemirror_mode": {
    "name": "ipython",
    "version": 3
   },
   "file_extension": ".py",
   "mimetype": "text/x-python",
   "name": "python",
   "nbconvert_exporter": "python",
   "pygments_lexer": "ipython3",
   "version": "3.12.4"
  }
 },
 "nbformat": 4,
 "nbformat_minor": 5
}
