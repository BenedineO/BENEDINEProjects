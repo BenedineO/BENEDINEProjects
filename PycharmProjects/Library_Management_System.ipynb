{
 "cells": [
  {
   "cell_type": "markdown",
   "id": "7754c309-3cc0-48ce-9b71-04ab6f1da885",
   "metadata": {},
   "source": [
    "# LIBRARY MANAGEMENT SYSTEM"
   ]
  },
  {
   "cell_type": "markdown",
   "id": "d7282e0b-44c0-465f-ac28-b2d1498df75c",
   "metadata": {},
   "source": [
    "#### Presenting a Comprehensive Project in Developing a Library Management System Using Python..."
   ]
  },
  {
   "cell_type": "markdown",
   "id": "dd61de4e-68fe-494e-a0e3-66b8136d0957",
   "metadata": {},
   "source": [
    "##### As a python programmer, this project involves developing a software for library management system. The goal of this project is aimed at developing a library management system that will effeciently store, organize and manage the books in the library. "
   ]
  },
  {
   "cell_type": "markdown",
   "id": "a5c4a85f-102a-4aa4-aab0-bf48e2b12fa2",
   "metadata": {},
   "source": [
    "### By: Benedine B.N Okeke\n",
    "##### Obiekeabb@gmail.com\n",
    "##### 29th July, 2024."
   ]
  },
  {
   "cell_type": "markdown",
   "id": "18819ede-212a-4a47-a845-9cee972a1a57",
   "metadata": {},
   "source": [
    "## ------------------------------------------------------------------------------"
   ]
  },
  {
   "cell_type": "markdown",
   "id": "d27c7294-e522-43fb-bbb8-35154073e21c",
   "metadata": {},
   "source": [
    "### ***IMPORT LIBRARY***"
   ]
  },
  {
   "cell_type": "code",
   "execution_count": 1,
   "id": "53ffb369-4682-406f-a573-a03fc4f2bb83",
   "metadata": {},
   "outputs": [],
   "source": [
    "# Importing Necessary library\n",
    "import datetime"
   ]
  },
  {
   "cell_type": "markdown",
   "id": "b2cb97d7-a8fa-4ac2-a19f-b6f17de11dab",
   "metadata": {},
   "source": [
    "##### Explanation: Using datetime to manipulate and format date and time."
   ]
  },
  {
   "cell_type": "markdown",
   "id": "625537bc-9bb4-4609-b94d-872904150bbc",
   "metadata": {},
   "source": [
    "### ***DEFINING DATA STRUCTURES***"
   ]
  },
  {
   "cell_type": "code",
   "execution_count": 2,
   "id": "645543d3-8020-4b76-8100-a46bc3d28396",
   "metadata": {},
   "outputs": [],
   "source": [
    "# List of books in the library\n",
    "library_books = []\n",
    "\n",
    "# Dictionary to store borrowed books\n",
    "borrowed_books = {}\n",
    "\n",
    "# List of users\n",
    "users = []"
   ]
  },
  {
   "cell_type": "markdown",
   "id": "9f043544-7be0-423c-ae7c-fe9d34fec1af",
   "metadata": {},
   "source": [
    "##### Explanation: Using list data type to store libary books and users because of its versatility. Using dictionary data type to store borrwed books because it allows the storing and retrieval of data values. "
   ]
  },
  {
   "cell_type": "markdown",
   "id": "e8bf6fc1-1c25-4045-81d3-28c821c5bf6b",
   "metadata": {},
   "source": [
    "## ------------------------------------------------------------------------------"
   ]
  },
  {
   "cell_type": "markdown",
   "id": "694cead9-275b-481f-9fa7-0e81c72d61f6",
   "metadata": {},
   "source": [
    "### ***DEFINING FUNCTIONS***"
   ]
  },
  {
   "cell_type": "markdown",
   "id": "a0bf85bd-9194-44eb-94b7-0242ced768d4",
   "metadata": {},
   "source": [
    "#### 1. Function to Add a Book to the Library"
   ]
  },
  {
   "cell_type": "code",
   "execution_count": 3,
   "id": "157f2278-d5bd-4709-9819-08a9f288cfb1",
   "metadata": {},
   "outputs": [],
   "source": [
    "def add_book(book_id, title, author):\n",
    "    book = {\n",
    "        \"book_id\": book_id,\n",
    "        \"title\": title,\n",
    "        \"author\": author,\n",
    "        \"available\": True\n",
    "    }\n",
    "    library_books.append(book)  # Add the book to the library_books list\n",
    "    print(f\"Book '{title}' by {author} added to the library.\")"
   ]
  },
  {
   "cell_type": "markdown",
   "id": "4788e6ed-75f1-418f-8a3a-38142a0d0c30",
   "metadata": {},
   "source": [
    "#### 2. Function to Search for a Book"
   ]
  },
  {
   "cell_type": "code",
   "execution_count": 4,
   "id": "8363d834-983a-42bf-9b93-1f15e087415f",
   "metadata": {},
   "outputs": [],
   "source": [
    "def search_book(title):\n",
    "    # Search for books in the library that match the given title (Case-insensitive)\n",
    "    found_books = [\n",
    "        book for book in library_books\n",
    "        if title.lower() in book[\"title\"].lower()\n",
    "    ]\n",
    "    if found_books:\n",
    "        # Iterate throug the found books and print their details\n",
    "        for book in found_books:\n",
    "            status = \"Available\" if book[\"available\"] else \"Borrowed\"\n",
    "            print(\n",
    "                f\"ID: {book['book_id']}, Title: {book['title']}, \"\n",
    "                f\"Author: {book['author']}, Status: {status}\"\n",
    "            )\n",
    "    else:\n",
    "        print(\"No books found with the title.\")\n",
    "    "
   ]
  },
  {
   "cell_type": "markdown",
   "id": "4639ec07-1b27-4441-a195-51ba40a0dec6",
   "metadata": {},
   "source": [
    "#### 3. Function to Borrow a Book"
   ]
  },
  {
   "cell_type": "code",
   "execution_count": 5,
   "id": "a3b8c2a0-4250-4982-bf4b-7e263ad79275",
   "metadata": {},
   "outputs": [],
   "source": [
    "def borrow_book(user,book_id):\n",
    "    # Check if the specified book is avaialble and mark it as borrowed\n",
    "    for book in library_books:\n",
    "        if book[\"book_id\"] == book_id and book[\"available\"]:\n",
    "            book[\"available\"] = False  # Mark the book as unavailable\n",
    "        borrowed_books[book_id] = {\n",
    "            \"user\": user,\n",
    "            \"borrow_data\": datetime.date.today()  # Record the borrow data\n",
    "        }\n",
    "        print(f\"Book '{book['title']}' borrowed by {user}. \")\n",
    "        return\n",
    "    print(\"Book not available or does not exist.\")"
   ]
  },
  {
   "cell_type": "markdown",
   "id": "174e7389-567a-4d69-a751-a5bbc89da1d0",
   "metadata": {},
   "source": [
    "#### 4. Function to Return a Book"
   ]
  },
  {
   "cell_type": "code",
   "execution_count": 6,
   "id": "7b2adb93-79eb-4f42-82e9-5c3e9431060b",
   "metadata": {},
   "outputs": [],
   "source": [
    "def return_book(book_id):\n",
    "    # Check if the book is in borrowed_books and mark it as available\n",
    "    if book_id in borrowed_book:\n",
    "        for book in library_books:\n",
    "            if book[\"book_id\"] == book_id:\n",
    "                book[\"available\"] = True  # Mark the book as available\n",
    "                borrowed_books.pop(book_id)  # Remove the book from borrowed_books\n",
    "                print(f\"Book '{book['title']}' returned.\")\n",
    "            return\n",
    "        print(\"Book not found in borrowed books.\")"
   ]
  },
  {
   "cell_type": "markdown",
   "id": "97e5ac88-035b-45c4-8ef8-25937b0f8f56",
   "metadata": {},
   "source": [
    "#### Explanation: Createe functions for Adding, Searching, Borrowing and Returning books. "
   ]
  },
  {
   "cell_type": "markdown",
   "id": "8266d69a-fc65-41e2-861e-bcd5ba419138",
   "metadata": {},
   "source": [
    "## ------------------------------------------------------------------------------"
   ]
  },
  {
   "cell_type": "markdown",
   "id": "2aefd46c-583c-40fd-86a4-d1748223b7f0",
   "metadata": {},
   "source": [
    "### ***IMPLEMENTING USER INTERACTION***"
   ]
  },
  {
   "cell_type": "code",
   "execution_count": 10,
   "id": "a3384968-84bf-4633-900f-83597e9cffef",
   "metadata": {},
   "outputs": [
    {
     "name": "stdout",
     "output_type": "stream",
     "text": [
      "\n",
      "Library Management System\n",
      "1. Add Book\n",
      "2. Search Book\n",
      "3. Borrow Book\n",
      "4. Return Book\n",
      "5. Exit\n"
     ]
    },
    {
     "name": "stdin",
     "output_type": "stream",
     "text": [
      "Enter your choice:  1\n",
      "Enter book ID:  0100-61345\n",
      "Enter book title:  Textbook on Public Health Medicine\n",
      "Enter book author:  Adetokunbo O. Lucas\n"
     ]
    },
    {
     "name": "stdout",
     "output_type": "stream",
     "text": [
      "Book 'Textbook on Public Health Medicine' by Adetokunbo O. Lucas added to the library.\n",
      "\n",
      "Library Management System\n",
      "1. Add Book\n",
      "2. Search Book\n",
      "3. Borrow Book\n",
      "4. Return Book\n",
      "5. Exit\n"
     ]
    },
    {
     "name": "stdin",
     "output_type": "stream",
     "text": [
      "Enter your choice:  3\n",
      "Enter your name:  Benedine Okeke\n",
      "Enter book ID to borrow:  0100-61345\n"
     ]
    },
    {
     "name": "stdout",
     "output_type": "stream",
     "text": [
      "Book 'Textbook on Public Health Medicine' borrowed by Benedine Okeke. \n",
      "\n",
      "Library Management System\n",
      "1. Add Book\n",
      "2. Search Book\n",
      "3. Borrow Book\n",
      "4. Return Book\n",
      "5. Exit\n"
     ]
    },
    {
     "name": "stdin",
     "output_type": "stream",
     "text": [
      "Enter your choice:  5\n"
     ]
    },
    {
     "name": "stdout",
     "output_type": "stream",
     "text": [
      "Exiting the system. Goodbye!\n"
     ]
    }
   ],
   "source": [
    "def main():\n",
    "    # Start an infinite loop for the library management system\n",
    "    while True:\n",
    "        print(\"\\nLibrary Management System\")\n",
    "        print(\"1. Add Book\")\n",
    "        print(\"2. Search Book\")\n",
    "        print(\"3. Borrow Book\")\n",
    "        print(\"4. Return Book\")\n",
    "        print(\"5. Exit\")\n",
    "        choice = input(\"Enter your choice: \")\n",
    "        \n",
    "        # Handle user choices for library operations\n",
    "        if choice == '1':\n",
    "            book_id = input(\"Enter book ID: \")\n",
    "            title = input(\"Enter book title: \")\n",
    "            author = input(\"Enter book author: \")\n",
    "            add_book(book_id, title, author) # Call function to add a new book\n",
    "        elif choice == '2':\n",
    "            title = input(\"Enter book title to search: \")\n",
    "            search_book(title)  # Call function to search for a new book\n",
    "        elif choice == '3':\n",
    "            user = input(\"Enter your name: \")\n",
    "            book_id = input(\"Enter book ID to borrow: \")\n",
    "            borrow_book(user, book_id)  # Call function to borrow a book\n",
    "        elif choice == '4':\n",
    "            book_id = input(\"Enter book ID to return: \")\n",
    "            return_book(book_id)  # Call function to return a borrowed book\n",
    "        elif choice == '5':\n",
    "            print(\"Exiting the system. Goodbye!\")  # Exit message\n",
    "            break  # Exit the loop and end the program\n",
    "        else:\n",
    "            print(\"Invalid choice. Please try again.\") # Handle invalid input\n",
    "\n",
    "# Start the Library Management System\n",
    "main()\n",
    "        "
   ]
  },
  {
   "cell_type": "markdown",
   "id": "2ff81302-609b-42f8-8604-3134a86bf534",
   "metadata": {},
   "source": [
    "### ***Conclusion: You can see the Library Management system is running excellently because of the python concepts applied***..."
   ]
  },
  {
   "cell_type": "markdown",
   "id": "d2faebd4-c6b1-4128-bdab-47113692be3b",
   "metadata": {},
   "source": [
    "### -------------------------------------------------------------------------------------------------"
   ]
  }
 ],
 "metadata": {
  "kernelspec": {
   "display_name": "Python 3 (ipykernel)",
   "language": "python",
   "name": "python3"
  },
  "language_info": {
   "codemirror_mode": {
    "name": "ipython",
    "version": 3
   },
   "file_extension": ".py",
   "mimetype": "text/x-python",
   "name": "python",
   "nbconvert_exporter": "python",
   "pygments_lexer": "ipython3",
   "version": "3.13.2"
  }
 },
 "nbformat": 4,
 "nbformat_minor": 5
}
